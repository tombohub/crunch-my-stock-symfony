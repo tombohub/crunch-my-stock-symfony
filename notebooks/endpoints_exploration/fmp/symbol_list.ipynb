{
 "cells": [
  {
   "cell_type": "markdown",
   "metadata": {},
   "source": [
    "Exploration of endpoint Symbol List API endpoint.\n",
    "docs: https://site.financialmodelingprep.com/developer/docs/stock-market-quote-free-api\n",
    "\n",
    "observations:\n",
    " - endpoint contains securities from all over the world\n",
    " - it containes active and delisted "
   ]
  },
  {
   "cell_type": "code",
   "execution_count": 25,
   "metadata": {},
   "outputs": [],
   "source": [
    "# setup\n",
    "\n",
    "import os\n",
    "import requests\n",
    "import pandas as pd\n",
    "from rich import print\n",
    "from dotenv import load_dotenv, find_dotenv\n",
    "load_dotenv(find_dotenv('.env.dev.local'))\n",
    "api_key = os.environ['fmp_api_key']\n",
    "endpoint = 'https://financialmodelingprep.com/api/v3/stock/list'"
   ]
  },
  {
   "cell_type": "code",
   "execution_count": 5,
   "metadata": {},
   "outputs": [
    {
     "data": {
      "text/html": [
       "<div>\n",
       "<style scoped>\n",
       "    .dataframe tbody tr th:only-of-type {\n",
       "        vertical-align: middle;\n",
       "    }\n",
       "\n",
       "    .dataframe tbody tr th {\n",
       "        vertical-align: top;\n",
       "    }\n",
       "\n",
       "    .dataframe thead th {\n",
       "        text-align: right;\n",
       "    }\n",
       "</style>\n",
       "<table border=\"1\" class=\"dataframe\">\n",
       "  <thead>\n",
       "    <tr style=\"text-align: right;\">\n",
       "      <th></th>\n",
       "      <th>symbol</th>\n",
       "      <th>name</th>\n",
       "      <th>price</th>\n",
       "      <th>exchange</th>\n",
       "      <th>exchangeShortName</th>\n",
       "      <th>type</th>\n",
       "    </tr>\n",
       "  </thead>\n",
       "  <tbody>\n",
       "    <tr>\n",
       "      <th>0</th>\n",
       "      <td>PMGOLD.AX</td>\n",
       "      <td>Perth Mint Gold</td>\n",
       "      <td>17.9400</td>\n",
       "      <td>Australian Securities Exchange</td>\n",
       "      <td>ASX</td>\n",
       "      <td>etf</td>\n",
       "    </tr>\n",
       "    <tr>\n",
       "      <th>1</th>\n",
       "      <td>C</td>\n",
       "      <td>Citigroup Inc.</td>\n",
       "      <td>59.5900</td>\n",
       "      <td>New York Stock Exchange</td>\n",
       "      <td>NYSE</td>\n",
       "      <td>stock</td>\n",
       "    </tr>\n",
       "    <tr>\n",
       "      <th>2</th>\n",
       "      <td>DEI</td>\n",
       "      <td>Douglas Emmett, Inc.</td>\n",
       "      <td>17.0450</td>\n",
       "      <td>New York Stock Exchange</td>\n",
       "      <td>NYSE</td>\n",
       "      <td>stock</td>\n",
       "    </tr>\n",
       "    <tr>\n",
       "      <th>3</th>\n",
       "      <td>CAH</td>\n",
       "      <td>Cardinal Health, Inc.</td>\n",
       "      <td>111.8000</td>\n",
       "      <td>New York Stock Exchange</td>\n",
       "      <td>NYSE</td>\n",
       "      <td>stock</td>\n",
       "    </tr>\n",
       "    <tr>\n",
       "      <th>4</th>\n",
       "      <td>HPQ</td>\n",
       "      <td>HP Inc.</td>\n",
       "      <td>34.5138</td>\n",
       "      <td>New York Stock Exchange</td>\n",
       "      <td>NYSE</td>\n",
       "      <td>stock</td>\n",
       "    </tr>\n",
       "  </tbody>\n",
       "</table>\n",
       "</div>"
      ],
      "text/plain": [
       "      symbol                   name     price                        exchange  \\\n",
       "0  PMGOLD.AX        Perth Mint Gold   17.9400  Australian Securities Exchange   \n",
       "1          C         Citigroup Inc.   59.5900         New York Stock Exchange   \n",
       "2        DEI   Douglas Emmett, Inc.   17.0450         New York Stock Exchange   \n",
       "3        CAH  Cardinal Health, Inc.  111.8000         New York Stock Exchange   \n",
       "4        HPQ                HP Inc.   34.5138         New York Stock Exchange   \n",
       "\n",
       "  exchangeShortName   type  \n",
       "0               ASX    etf  \n",
       "1              NYSE  stock  \n",
       "2              NYSE  stock  \n",
       "3              NYSE  stock  \n",
       "4              NYSE  stock  "
      ]
     },
     "execution_count": 5,
     "metadata": {},
     "output_type": "execute_result"
    }
   ],
   "source": [
    "# create dataframe from request to the endpoint\n",
    "\n",
    "request_url = f'{endpoint}?apikey={api_key}'\n",
    "response = requests.get(request_url)\n",
    "data = response.json()\n",
    "df = pd.DataFrame(data)\n",
    "df.head()"
   ]
  },
  {
   "cell_type": "code",
   "execution_count": 27,
   "metadata": {},
   "outputs": [
    {
     "data": {
      "text/html": [
       "<pre style=\"white-space:pre;overflow-x:auto;line-height:normal;font-family:Menlo,'DejaVu Sans Mono',consolas,'Courier New',monospace\"><span style=\"font-weight: bold\">[</span><span style=\"color: #008000; text-decoration-color: #008000\">'etf'</span> <span style=\"color: #008000; text-decoration-color: #008000\">'stock'</span> <span style=\"color: #008000; text-decoration-color: #008000\">'trust'</span> <span style=\"color: #008000; text-decoration-color: #008000\">'fund'</span><span style=\"font-weight: bold\">]</span>\n",
       "</pre>\n"
      ],
      "text/plain": [
       "\u001b[1m[\u001b[0m\u001b[32m'etf'\u001b[0m \u001b[32m'stock'\u001b[0m \u001b[32m'trust'\u001b[0m \u001b[32m'fund'\u001b[0m\u001b[1m]\u001b[0m\n"
      ]
     },
     "metadata": {},
     "output_type": "display_data"
    },
    {
     "data": {
      "text/html": [
       "<pre style=\"white-space:pre;overflow-x:auto;line-height:normal;font-family:Menlo,'DejaVu Sans Mono',consolas,'Courier New',monospace\">exchange:  <span style=\"font-weight: bold\">[</span><span style=\"color: #008000; text-decoration-color: #008000\">'ASX'</span> <span style=\"color: #008000; text-decoration-color: #008000\">'NYSE'</span> <span style=\"color: #008000; text-decoration-color: #008000\">'NASDAQ'</span> <span style=\"color: #008000; text-decoration-color: #008000\">'AMEX'</span> <span style=\"color: #008000; text-decoration-color: #008000\">'TSX'</span> <span style=\"color: #008000; text-decoration-color: #008000\">'ETF'</span> <span style=\"color: #008000; text-decoration-color: #008000\">'TSXV'</span> <span style=\"color: #008000; text-decoration-color: #008000\">'OTC'</span> <span style=\"color: #008000; text-decoration-color: #008000\">'NEO'</span> <span style=\"color: #800080; text-decoration-color: #800080; font-style: italic\">None</span> <span style=\"color: #008000; text-decoration-color: #008000\">'PNK'</span>\n",
       " <span style=\"color: #008000; text-decoration-color: #008000\">'CNQ'</span> <span style=\"color: #008000; text-decoration-color: #008000\">'XETRA'</span> <span style=\"color: #008000; text-decoration-color: #008000\">'CBOE'</span> <span style=\"color: #008000; text-decoration-color: #008000\">'SAO'</span> <span style=\"color: #008000; text-decoration-color: #008000\">'LSE'</span> <span style=\"color: #008000; text-decoration-color: #008000\">'MCX'</span> <span style=\"color: #008000; text-decoration-color: #008000\">'STU'</span> <span style=\"color: #008000; text-decoration-color: #008000\">'HAM'</span> <span style=\"color: #008000; text-decoration-color: #008000\">'JNB'</span> <span style=\"color: #008000; text-decoration-color: #008000\">'MEX'</span> <span style=\"color: #008000; text-decoration-color: #008000\">'BUE'</span>\n",
       " <span style=\"color: #008000; text-decoration-color: #008000\">'IOB'</span> <span style=\"color: #008000; text-decoration-color: #008000\">'BER'</span> <span style=\"color: #008000; text-decoration-color: #008000\">'EURONEXT'</span> <span style=\"color: #008000; text-decoration-color: #008000\">'VIE'</span> <span style=\"color: #008000; text-decoration-color: #008000\">'BME'</span> <span style=\"color: #008000; text-decoration-color: #008000\">'MIL'</span> <span style=\"color: #008000; text-decoration-color: #008000\">'STO'</span> <span style=\"color: #008000; text-decoration-color: #008000\">'BRU'</span> <span style=\"color: #008000; text-decoration-color: #008000\">'SIX'</span> <span style=\"color: #008000; text-decoration-color: #008000\">'AMS'</span> <span style=\"color: #008000; text-decoration-color: #008000\">'HEL'</span>\n",
       " <span style=\"color: #008000; text-decoration-color: #008000\">'ICE'</span> <span style=\"color: #008000; text-decoration-color: #008000\">'DXE'</span> <span style=\"color: #008000; text-decoration-color: #008000\">'MUN'</span> <span style=\"color: #008000; text-decoration-color: #008000\">'BUD'</span> <span style=\"color: #008000; text-decoration-color: #008000\">'IST'</span> <span style=\"color: #008000; text-decoration-color: #008000\">'WSE'</span> <span style=\"color: #008000; text-decoration-color: #008000\">'CPH'</span> <span style=\"color: #008000; text-decoration-color: #008000\">'DUS'</span> <span style=\"color: #008000; text-decoration-color: #008000\">'TLV'</span> <span style=\"color: #008000; text-decoration-color: #008000\">'OSL'</span> <span style=\"color: #008000; text-decoration-color: #008000\">'ATH'</span> <span style=\"color: #008000; text-decoration-color: #008000\">'PRA'</span>\n",
       " <span style=\"color: #008000; text-decoration-color: #008000\">'SAU'</span> <span style=\"color: #008000; text-decoration-color: #008000\">'CAI'</span> <span style=\"color: #008000; text-decoration-color: #008000\">'RIS'</span> <span style=\"color: #008000; text-decoration-color: #008000\">'DFM'</span> <span style=\"color: #008000; text-decoration-color: #008000\">'BSE'</span> <span style=\"color: #008000; text-decoration-color: #008000\">'DOH'</span> <span style=\"color: #008000; text-decoration-color: #008000\">'NSE'</span> <span style=\"color: #008000; text-decoration-color: #008000\">'JKT'</span> <span style=\"color: #008000; text-decoration-color: #008000\">'KUW'</span> <span style=\"color: #008000; text-decoration-color: #008000\">'SET'</span> <span style=\"color: #008000; text-decoration-color: #008000\">'SES'</span> <span style=\"color: #008000; text-decoration-color: #008000\">'KLS'</span>\n",
       " <span style=\"color: #008000; text-decoration-color: #008000\">'SHZ'</span> <span style=\"color: #008000; text-decoration-color: #008000\">'SHH'</span> <span style=\"color: #008000; text-decoration-color: #008000\">'VSE'</span> <span style=\"color: #008000; text-decoration-color: #008000\">'TWO'</span> <span style=\"color: #008000; text-decoration-color: #008000\">'JPX'</span> <span style=\"color: #008000; text-decoration-color: #008000\">'TAI'</span> <span style=\"color: #008000; text-decoration-color: #008000\">'NZE'</span> <span style=\"color: #008000; text-decoration-color: #008000\">'SGO'</span> <span style=\"color: #008000; text-decoration-color: #008000\">'HKSE'</span> <span style=\"color: #008000; text-decoration-color: #008000\">'AQS'</span> <span style=\"color: #008000; text-decoration-color: #008000\">'KSC'</span> <span style=\"color: #008000; text-decoration-color: #008000\">'KOE'</span><span style=\"font-weight: bold\">]</span>\n",
       "</pre>\n"
      ],
      "text/plain": [
       "exchange:  \u001b[1m[\u001b[0m\u001b[32m'ASX'\u001b[0m \u001b[32m'NYSE'\u001b[0m \u001b[32m'NASDAQ'\u001b[0m \u001b[32m'AMEX'\u001b[0m \u001b[32m'TSX'\u001b[0m \u001b[32m'ETF'\u001b[0m \u001b[32m'TSXV'\u001b[0m \u001b[32m'OTC'\u001b[0m \u001b[32m'NEO'\u001b[0m \u001b[3;35mNone\u001b[0m \u001b[32m'PNK'\u001b[0m\n",
       " \u001b[32m'CNQ'\u001b[0m \u001b[32m'XETRA'\u001b[0m \u001b[32m'CBOE'\u001b[0m \u001b[32m'SAO'\u001b[0m \u001b[32m'LSE'\u001b[0m \u001b[32m'MCX'\u001b[0m \u001b[32m'STU'\u001b[0m \u001b[32m'HAM'\u001b[0m \u001b[32m'JNB'\u001b[0m \u001b[32m'MEX'\u001b[0m \u001b[32m'BUE'\u001b[0m\n",
       " \u001b[32m'IOB'\u001b[0m \u001b[32m'BER'\u001b[0m \u001b[32m'EURONEXT'\u001b[0m \u001b[32m'VIE'\u001b[0m \u001b[32m'BME'\u001b[0m \u001b[32m'MIL'\u001b[0m \u001b[32m'STO'\u001b[0m \u001b[32m'BRU'\u001b[0m \u001b[32m'SIX'\u001b[0m \u001b[32m'AMS'\u001b[0m \u001b[32m'HEL'\u001b[0m\n",
       " \u001b[32m'ICE'\u001b[0m \u001b[32m'DXE'\u001b[0m \u001b[32m'MUN'\u001b[0m \u001b[32m'BUD'\u001b[0m \u001b[32m'IST'\u001b[0m \u001b[32m'WSE'\u001b[0m \u001b[32m'CPH'\u001b[0m \u001b[32m'DUS'\u001b[0m \u001b[32m'TLV'\u001b[0m \u001b[32m'OSL'\u001b[0m \u001b[32m'ATH'\u001b[0m \u001b[32m'PRA'\u001b[0m\n",
       " \u001b[32m'SAU'\u001b[0m \u001b[32m'CAI'\u001b[0m \u001b[32m'RIS'\u001b[0m \u001b[32m'DFM'\u001b[0m \u001b[32m'BSE'\u001b[0m \u001b[32m'DOH'\u001b[0m \u001b[32m'NSE'\u001b[0m \u001b[32m'JKT'\u001b[0m \u001b[32m'KUW'\u001b[0m \u001b[32m'SET'\u001b[0m \u001b[32m'SES'\u001b[0m \u001b[32m'KLS'\u001b[0m\n",
       " \u001b[32m'SHZ'\u001b[0m \u001b[32m'SHH'\u001b[0m \u001b[32m'VSE'\u001b[0m \u001b[32m'TWO'\u001b[0m \u001b[32m'JPX'\u001b[0m \u001b[32m'TAI'\u001b[0m \u001b[32m'NZE'\u001b[0m \u001b[32m'SGO'\u001b[0m \u001b[32m'HKSE'\u001b[0m \u001b[32m'AQS'\u001b[0m \u001b[32m'KSC'\u001b[0m \u001b[32m'KOE'\u001b[0m\u001b[1m]\u001b[0m\n"
      ]
     },
     "metadata": {},
     "output_type": "display_data"
    }
   ],
   "source": [
    "# see unique values for certain columns\n",
    "unique_type  = df['type'].unique()\n",
    "unique_exchange = df['exchangeShortName'].unique()\n",
    "print(unique_type)\n",
    "print('exchange: ', unique_exchange)"
   ]
  },
  {
   "cell_type": "code",
   "execution_count": 30,
   "metadata": {},
   "outputs": [
    {
     "data": {
      "text/plain": [
       "symbol               10518\n",
       "name                 10490\n",
       "price                10516\n",
       "exchange             10518\n",
       "exchangeShortName    10518\n",
       "type                 10518\n",
       "dtype: int64"
      ]
     },
     "execution_count": 30,
     "metadata": {},
     "output_type": "execute_result"
    }
   ],
   "source": [
    "# count how many stocks in NYSE and NASDAQ\n",
    "filtered_df = df[ (df['type'] == 'stock') & (df['exchangeShortName'].isin(['NYSE', 'NASDAQ'])) ]\n",
    "filtered_df.count()"
   ]
  }
 ],
 "metadata": {
  "kernelspec": {
   "display_name": ".venv",
   "language": "python",
   "name": "python3"
  },
  "language_info": {
   "codemirror_mode": {
    "name": "ipython",
    "version": 3
   },
   "file_extension": ".py",
   "mimetype": "text/x-python",
   "name": "python",
   "nbconvert_exporter": "python",
   "pygments_lexer": "ipython3",
   "version": "3.12.2"
  }
 },
 "nbformat": 4,
 "nbformat_minor": 2
}
