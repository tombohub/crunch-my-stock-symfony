{
 "cells": [
  {
   "cell_type": "markdown",
   "metadata": {},
   "source": [
    "Exploration of Tradeable Search API endpoint\n",
    "docs: https://www.alphavantage.co/documentation/#listing-status\n",
    "\n",
    "observations:\n",
    "- with no parameters it lists active securities on latest trading day\n",
    "- only USA securities"
   ]
  },
  {
   "cell_type": "code",
   "execution_count": 10,
   "metadata": {},
   "outputs": [],
   "source": [
    "# setup\n",
    "\n",
    "import os\n",
    "import io\n",
    "import requests\n",
    "import pandas as pd\n",
    "from rich import print\n",
    "from dotenv import load_dotenv, find_dotenv\n",
    "load_dotenv(find_dotenv('.env.dev.local'))\n",
    "api_key = os.environ['alphavantage_api_key']\n",
    "endpoint = 'https://www.alphavantage.co/query?function=LISTING_STATUS'"
   ]
  },
  {
   "cell_type": "markdown",
   "metadata": {},
   "source": [
    "# No parameters"
   ]
  },
  {
   "cell_type": "code",
   "execution_count": 19,
   "metadata": {},
   "outputs": [
    {
     "data": {
      "text/html": [
       "<div>\n",
       "<style scoped>\n",
       "    .dataframe tbody tr th:only-of-type {\n",
       "        vertical-align: middle;\n",
       "    }\n",
       "\n",
       "    .dataframe tbody tr th {\n",
       "        vertical-align: top;\n",
       "    }\n",
       "\n",
       "    .dataframe thead th {\n",
       "        text-align: right;\n",
       "    }\n",
       "</style>\n",
       "<table border=\"1\" class=\"dataframe\">\n",
       "  <thead>\n",
       "    <tr style=\"text-align: right;\">\n",
       "      <th></th>\n",
       "      <th>symbol</th>\n",
       "      <th>name</th>\n",
       "      <th>exchange</th>\n",
       "      <th>assetType</th>\n",
       "      <th>ipoDate</th>\n",
       "      <th>delistingDate</th>\n",
       "      <th>status</th>\n",
       "    </tr>\n",
       "  </thead>\n",
       "  <tbody>\n",
       "    <tr>\n",
       "      <th>0</th>\n",
       "      <td>A</td>\n",
       "      <td>Agilent Technologies Inc</td>\n",
       "      <td>NYSE</td>\n",
       "      <td>Stock</td>\n",
       "      <td>1999-11-18</td>\n",
       "      <td>NaN</td>\n",
       "      <td>Active</td>\n",
       "    </tr>\n",
       "    <tr>\n",
       "      <th>1</th>\n",
       "      <td>AA</td>\n",
       "      <td>Alcoa Corp</td>\n",
       "      <td>NYSE</td>\n",
       "      <td>Stock</td>\n",
       "      <td>2016-10-18</td>\n",
       "      <td>NaN</td>\n",
       "      <td>Active</td>\n",
       "    </tr>\n",
       "    <tr>\n",
       "      <th>2</th>\n",
       "      <td>AAA</td>\n",
       "      <td>ALTERNATIVE ACCESS FIRST PRIORITY CLO BOND ETF</td>\n",
       "      <td>NYSE ARCA</td>\n",
       "      <td>ETF</td>\n",
       "      <td>2020-09-09</td>\n",
       "      <td>NaN</td>\n",
       "      <td>Active</td>\n",
       "    </tr>\n",
       "    <tr>\n",
       "      <th>3</th>\n",
       "      <td>AAAU</td>\n",
       "      <td>Goldman Sachs Physical Gold ETF</td>\n",
       "      <td>BATS</td>\n",
       "      <td>ETF</td>\n",
       "      <td>2018-08-15</td>\n",
       "      <td>NaN</td>\n",
       "      <td>Active</td>\n",
       "    </tr>\n",
       "    <tr>\n",
       "      <th>4</th>\n",
       "      <td>AACG</td>\n",
       "      <td>ATA Creativity Global</td>\n",
       "      <td>NASDAQ</td>\n",
       "      <td>Stock</td>\n",
       "      <td>2008-01-29</td>\n",
       "      <td>NaN</td>\n",
       "      <td>Active</td>\n",
       "    </tr>\n",
       "    <tr>\n",
       "      <th>...</th>\n",
       "      <td>...</td>\n",
       "      <td>...</td>\n",
       "      <td>...</td>\n",
       "      <td>...</td>\n",
       "      <td>...</td>\n",
       "      <td>...</td>\n",
       "      <td>...</td>\n",
       "    </tr>\n",
       "    <tr>\n",
       "      <th>11660</th>\n",
       "      <td>ZYME</td>\n",
       "      <td>Zymeworks BC Inc</td>\n",
       "      <td>NASDAQ</td>\n",
       "      <td>Stock</td>\n",
       "      <td>2017-04-28</td>\n",
       "      <td>NaN</td>\n",
       "      <td>Active</td>\n",
       "    </tr>\n",
       "    <tr>\n",
       "      <th>11661</th>\n",
       "      <td>ZYNE</td>\n",
       "      <td>Zynerba Pharmaceuticals Inc</td>\n",
       "      <td>NASDAQ</td>\n",
       "      <td>Stock</td>\n",
       "      <td>2015-08-05</td>\n",
       "      <td>NaN</td>\n",
       "      <td>Active</td>\n",
       "    </tr>\n",
       "    <tr>\n",
       "      <th>11662</th>\n",
       "      <td>ZYXI</td>\n",
       "      <td>Zynex Inc</td>\n",
       "      <td>NASDAQ</td>\n",
       "      <td>Stock</td>\n",
       "      <td>2012-07-23</td>\n",
       "      <td>NaN</td>\n",
       "      <td>Active</td>\n",
       "    </tr>\n",
       "    <tr>\n",
       "      <th>11663</th>\n",
       "      <td>ZZK</td>\n",
       "      <td>NaN</td>\n",
       "      <td>NYSE ARCA</td>\n",
       "      <td>Stock</td>\n",
       "      <td>2020-07-22</td>\n",
       "      <td>NaN</td>\n",
       "      <td>Active</td>\n",
       "    </tr>\n",
       "    <tr>\n",
       "      <th>11664</th>\n",
       "      <td>ZZZ</td>\n",
       "      <td>TEST TICKER FOR UTP</td>\n",
       "      <td>NYSE ARCA</td>\n",
       "      <td>Stock</td>\n",
       "      <td>2014-10-31</td>\n",
       "      <td>NaN</td>\n",
       "      <td>Active</td>\n",
       "    </tr>\n",
       "  </tbody>\n",
       "</table>\n",
       "<p>11665 rows × 7 columns</p>\n",
       "</div>"
      ],
      "text/plain": [
       "      symbol                                             name   exchange  \\\n",
       "0          A                         Agilent Technologies Inc       NYSE   \n",
       "1         AA                                       Alcoa Corp       NYSE   \n",
       "2        AAA  ALTERNATIVE ACCESS FIRST PRIORITY CLO BOND ETF   NYSE ARCA   \n",
       "3       AAAU                  Goldman Sachs Physical Gold ETF       BATS   \n",
       "4       AACG                            ATA Creativity Global     NASDAQ   \n",
       "...      ...                                              ...        ...   \n",
       "11660   ZYME                                 Zymeworks BC Inc     NASDAQ   \n",
       "11661   ZYNE                      Zynerba Pharmaceuticals Inc     NASDAQ   \n",
       "11662   ZYXI                                        Zynex Inc     NASDAQ   \n",
       "11663    ZZK                                              NaN  NYSE ARCA   \n",
       "11664    ZZZ                              TEST TICKER FOR UTP  NYSE ARCA   \n",
       "\n",
       "      assetType     ipoDate  delistingDate  status  \n",
       "0         Stock  1999-11-18            NaN  Active  \n",
       "1         Stock  2016-10-18            NaN  Active  \n",
       "2           ETF  2020-09-09            NaN  Active  \n",
       "3           ETF  2018-08-15            NaN  Active  \n",
       "4         Stock  2008-01-29            NaN  Active  \n",
       "...         ...         ...            ...     ...  \n",
       "11660     Stock  2017-04-28            NaN  Active  \n",
       "11661     Stock  2015-08-05            NaN  Active  \n",
       "11662     Stock  2012-07-23            NaN  Active  \n",
       "11663     Stock  2020-07-22            NaN  Active  \n",
       "11664     Stock  2014-10-31            NaN  Active  \n",
       "\n",
       "[11665 rows x 7 columns]"
      ]
     },
     "execution_count": 19,
     "metadata": {},
     "output_type": "execute_result"
    }
   ],
   "source": [
    "request_url = f'{endpoint}&apikey={api_key}'\n",
    "response = requests.get(request_url)\n",
    "csv_data = response.content.decode('utf-8')\n",
    "df_default = pd.read_csv(io.StringIO(csv_data))\n",
    "df_default"
   ]
  },
  {
   "cell_type": "code",
   "execution_count": 20,
   "metadata": {},
   "outputs": [
    {
     "data": {
      "text/html": [
       "<pre style=\"white-space:pre;overflow-x:auto;line-height:normal;font-family:Menlo,'DejaVu Sans Mono',consolas,'Courier New',monospace\">status:  <span style=\"font-weight: bold\">[</span><span style=\"color: #008000; text-decoration-color: #008000\">'Active'</span><span style=\"font-weight: bold\">]</span>\n",
       "</pre>\n"
      ],
      "text/plain": [
       "status:  \u001b[1m[\u001b[0m\u001b[32m'Active'\u001b[0m\u001b[1m]\u001b[0m\n"
      ]
     },
     "metadata": {},
     "output_type": "display_data"
    },
    {
     "data": {
      "text/html": [
       "<pre style=\"white-space:pre;overflow-x:auto;line-height:normal;font-family:Menlo,'DejaVu Sans Mono',consolas,'Courier New',monospace\">del_date : <span style=\"font-weight: bold\">[</span>nan<span style=\"font-weight: bold\">]</span>\n",
       "</pre>\n"
      ],
      "text/plain": [
       "del_date : \u001b[1m[\u001b[0mnan\u001b[1m]\u001b[0m\n"
      ]
     },
     "metadata": {},
     "output_type": "display_data"
    }
   ],
   "source": [
    "# make sure it's only active securities\n",
    "# status should all be Active and delistingDate NaN\n",
    "unique_status = df_default['status'].unique()\n",
    "unique_del_date = df_default['delistingDate'].unique()\n",
    "print('status: ', unique_status)\n",
    "print('del_date :', unique_del_date)"
   ]
  },
  {
   "cell_type": "code",
   "execution_count": 21,
   "metadata": {},
   "outputs": [
    {
     "data": {
      "text/plain": [
       "symbol           7167\n",
       "name             7141\n",
       "exchange         7168\n",
       "assetType        7168\n",
       "ipoDate          7168\n",
       "delistingDate       0\n",
       "status           7168\n",
       "dtype: int64"
      ]
     },
     "execution_count": 21,
     "metadata": {},
     "output_type": "execute_result"
    }
   ],
   "source": [
    "# count of active stocks on NSYE and NASDAQ\n",
    "filtered_df_default = df_default[ (df_default['assetType'] == 'Stock') & (df_default['exchange'].isin(['NYSE', 'NASDAQ'])) ]\n",
    "filtered_df_default.count()"
   ]
  },
  {
   "cell_type": "markdown",
   "metadata": {},
   "source": [
    "# Parameter state=delisted"
   ]
  },
  {
   "cell_type": "code",
   "execution_count": 15,
   "metadata": {},
   "outputs": [
    {
     "data": {
      "text/html": [
       "<div>\n",
       "<style scoped>\n",
       "    .dataframe tbody tr th:only-of-type {\n",
       "        vertical-align: middle;\n",
       "    }\n",
       "\n",
       "    .dataframe tbody tr th {\n",
       "        vertical-align: top;\n",
       "    }\n",
       "\n",
       "    .dataframe thead th {\n",
       "        text-align: right;\n",
       "    }\n",
       "</style>\n",
       "<table border=\"1\" class=\"dataframe\">\n",
       "  <thead>\n",
       "    <tr style=\"text-align: right;\">\n",
       "      <th></th>\n",
       "      <th>symbol</th>\n",
       "      <th>name</th>\n",
       "      <th>exchange</th>\n",
       "      <th>assetType</th>\n",
       "      <th>ipoDate</th>\n",
       "      <th>delistingDate</th>\n",
       "      <th>status</th>\n",
       "    </tr>\n",
       "  </thead>\n",
       "  <tbody>\n",
       "    <tr>\n",
       "      <th>0</th>\n",
       "      <td>AA-W</td>\n",
       "      <td>Alcoa Corporation When Issued</td>\n",
       "      <td>NYSE</td>\n",
       "      <td>Stock</td>\n",
       "      <td>2016-10-18</td>\n",
       "      <td>2016-11-08</td>\n",
       "      <td>Delisted</td>\n",
       "    </tr>\n",
       "    <tr>\n",
       "      <th>1</th>\n",
       "      <td>AAAP</td>\n",
       "      <td>Advanced Accelerator Applications SA</td>\n",
       "      <td>NASDAQ</td>\n",
       "      <td>Stock</td>\n",
       "      <td>2015-11-11</td>\n",
       "      <td>2018-02-20</td>\n",
       "      <td>Delisted</td>\n",
       "    </tr>\n",
       "    <tr>\n",
       "      <th>2</th>\n",
       "      <td>AABA</td>\n",
       "      <td>Altaba Inc</td>\n",
       "      <td>NASDAQ</td>\n",
       "      <td>Stock</td>\n",
       "      <td>1996-04-12</td>\n",
       "      <td>2019-11-06</td>\n",
       "      <td>Delisted</td>\n",
       "    </tr>\n",
       "    <tr>\n",
       "      <th>3</th>\n",
       "      <td>AAC</td>\n",
       "      <td>American Addiction Centers</td>\n",
       "      <td>NYSE</td>\n",
       "      <td>Stock</td>\n",
       "      <td>2014-10-02</td>\n",
       "      <td>2021-04-19</td>\n",
       "      <td>Delisted</td>\n",
       "    </tr>\n",
       "    <tr>\n",
       "      <th>4</th>\n",
       "      <td>AAC-U</td>\n",
       "      <td>Ares Acquisition Corporation - Units (1 Ord Sh...</td>\n",
       "      <td>NYSE</td>\n",
       "      <td>Stock</td>\n",
       "      <td>2021-02-02</td>\n",
       "      <td>2023-11-06</td>\n",
       "      <td>Delisted</td>\n",
       "    </tr>\n",
       "    <tr>\n",
       "      <th>...</th>\n",
       "      <td>...</td>\n",
       "      <td>...</td>\n",
       "      <td>...</td>\n",
       "      <td>...</td>\n",
       "      <td>...</td>\n",
       "      <td>...</td>\n",
       "      <td>...</td>\n",
       "    </tr>\n",
       "    <tr>\n",
       "      <th>8362</th>\n",
       "      <td>ZWRK</td>\n",
       "      <td>Z-Work Acquisition Corp - Class A</td>\n",
       "      <td>NASDAQ</td>\n",
       "      <td>Stock</td>\n",
       "      <td>2021-04-05</td>\n",
       "      <td>2022-12-08</td>\n",
       "      <td>Delisted</td>\n",
       "    </tr>\n",
       "    <tr>\n",
       "      <th>8363</th>\n",
       "      <td>ZWRKU</td>\n",
       "      <td>Z-Work Acquisition Corp - Units (1 Ord Class A...</td>\n",
       "      <td>NASDAQ</td>\n",
       "      <td>Stock</td>\n",
       "      <td>2021-01-29</td>\n",
       "      <td>2022-12-08</td>\n",
       "      <td>Delisted</td>\n",
       "    </tr>\n",
       "    <tr>\n",
       "      <th>8364</th>\n",
       "      <td>ZWRKW</td>\n",
       "      <td>Z-Work Acquisition Corp - Warrants (29/01/2026)</td>\n",
       "      <td>NASDAQ</td>\n",
       "      <td>Stock</td>\n",
       "      <td>2021-03-24</td>\n",
       "      <td>2022-12-08</td>\n",
       "      <td>Delisted</td>\n",
       "    </tr>\n",
       "    <tr>\n",
       "      <th>8365</th>\n",
       "      <td>ZX</td>\n",
       "      <td>China Zenix Auto International Ltd</td>\n",
       "      <td>NYSE</td>\n",
       "      <td>Stock</td>\n",
       "      <td>2011-05-16</td>\n",
       "      <td>2018-06-14</td>\n",
       "      <td>Delisted</td>\n",
       "    </tr>\n",
       "    <tr>\n",
       "      <th>8366</th>\n",
       "      <td>ZY</td>\n",
       "      <td>Zymergen Inc</td>\n",
       "      <td>NASDAQ</td>\n",
       "      <td>Stock</td>\n",
       "      <td>2021-04-22</td>\n",
       "      <td>2022-11-02</td>\n",
       "      <td>Delisted</td>\n",
       "    </tr>\n",
       "  </tbody>\n",
       "</table>\n",
       "<p>8367 rows × 7 columns</p>\n",
       "</div>"
      ],
      "text/plain": [
       "     symbol                                               name exchange  \\\n",
       "0      AA-W                      Alcoa Corporation When Issued     NYSE   \n",
       "1      AAAP               Advanced Accelerator Applications SA   NASDAQ   \n",
       "2      AABA                                         Altaba Inc   NASDAQ   \n",
       "3       AAC                         American Addiction Centers     NYSE   \n",
       "4     AAC-U  Ares Acquisition Corporation - Units (1 Ord Sh...     NYSE   \n",
       "...     ...                                                ...      ...   \n",
       "8362   ZWRK                  Z-Work Acquisition Corp - Class A   NASDAQ   \n",
       "8363  ZWRKU  Z-Work Acquisition Corp - Units (1 Ord Class A...   NASDAQ   \n",
       "8364  ZWRKW    Z-Work Acquisition Corp - Warrants (29/01/2026)   NASDAQ   \n",
       "8365     ZX                 China Zenix Auto International Ltd     NYSE   \n",
       "8366     ZY                                       Zymergen Inc   NASDAQ   \n",
       "\n",
       "     assetType     ipoDate delistingDate    status  \n",
       "0        Stock  2016-10-18    2016-11-08  Delisted  \n",
       "1        Stock  2015-11-11    2018-02-20  Delisted  \n",
       "2        Stock  1996-04-12    2019-11-06  Delisted  \n",
       "3        Stock  2014-10-02    2021-04-19  Delisted  \n",
       "4        Stock  2021-02-02    2023-11-06  Delisted  \n",
       "...        ...         ...           ...       ...  \n",
       "8362     Stock  2021-04-05    2022-12-08  Delisted  \n",
       "8363     Stock  2021-01-29    2022-12-08  Delisted  \n",
       "8364     Stock  2021-03-24    2022-12-08  Delisted  \n",
       "8365     Stock  2011-05-16    2018-06-14  Delisted  \n",
       "8366     Stock  2021-04-22    2022-11-02  Delisted  \n",
       "\n",
       "[8367 rows x 7 columns]"
      ]
     },
     "execution_count": 15,
     "metadata": {},
     "output_type": "execute_result"
    }
   ],
   "source": [
    "request_url = f'{endpoint}&state=delisted&apikey={api_key}'\n",
    "response = requests.get(request_url)\n",
    "csv_data = response.content.decode('utf-8')\n",
    "df_delisted = pd.read_csv(io.StringIO(csv_data))\n",
    "df_delisted"
   ]
  },
  {
   "cell_type": "code",
   "execution_count": 16,
   "metadata": {},
   "outputs": [
    {
     "data": {
      "text/plain": [
       "array(['Delisted'], dtype=object)"
      ]
     },
     "execution_count": 16,
     "metadata": {},
     "output_type": "execute_result"
    }
   ],
   "source": [
    "unique_status = df_delisted['status'].unique()\n",
    "unique_status"
   ]
  },
  {
   "cell_type": "code",
   "execution_count": 23,
   "metadata": {},
   "outputs": [
    {
     "data": {
      "text/plain": [
       "symbol           6595\n",
       "name             6463\n",
       "exchange         6595\n",
       "assetType        6595\n",
       "ipoDate          6595\n",
       "delistingDate    6595\n",
       "status           6595\n",
       "dtype: int64"
      ]
     },
     "execution_count": 23,
     "metadata": {},
     "output_type": "execute_result"
    }
   ],
   "source": [
    "filtered_df_delisted = df_delisted[(df_delisted['assetType'] == 'Stock') & (df_delisted['exchange'].isin(['NYSE', 'NASDAQ']))]\n",
    "filtered_df_delisted.count()"
   ]
  }
 ],
 "metadata": {
  "kernelspec": {
   "display_name": ".venv",
   "language": "python",
   "name": "python3"
  },
  "language_info": {
   "codemirror_mode": {
    "name": "ipython",
    "version": 3
   },
   "file_extension": ".py",
   "mimetype": "text/x-python",
   "name": "python",
   "nbconvert_exporter": "python",
   "pygments_lexer": "ipython3",
   "version": "3.12.2"
  }
 },
 "nbformat": 4,
 "nbformat_minor": 2
}
